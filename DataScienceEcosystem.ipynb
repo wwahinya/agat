{
 "cells": [
  {
   "cell_type": "markdown",
   "id": "1c0d5ef1-88c6-480e-88ab-a1a0e5065c56",
   "metadata": {
    "tags": []
   },
   "source": [
    "# Data Science Tools and Ecosystem"
   ]
  },
  {
   "cell_type": "markdown",
   "id": "ac5bb422-0c9f-4aa8-9aec-c69dd0f82073",
   "metadata": {
    "tags": []
   },
   "source": [
    "## In this notebook, Data Science Tools and Ecosystem are summarized."
   ]
  },
  {
   "cell_type": "markdown",
   "id": "52d17b42-8f63-4e0d-9778-8ae461cb764e",
   "metadata": {},
   "source": [
    "### Some of the popular languages that Data Scientists use are:\n",
    "    1) Python\n",
    "    2) R\n",
    "    3) SQL\n",
    "    4) Java\n",
    "    5) C++"
   ]
  },
  {
   "cell_type": "markdown",
   "id": "56733b0a-3ef8-4803-95b8-9e39aba77b66",
   "metadata": {},
   "source": [
    "#### Some of the commonly used libraries used by Data Scientists include:\n",
    "1) Pandas\n",
    "2) Numpy\n",
    "3) Matplotlib\n",
    "4) Seaborn\n",
    "5) Keras"
   ]
  },
  {
   "cell_type": "markdown",
   "id": "acc16a99-4e97-488e-9ebc-2379ead57a4e",
   "metadata": {
    "tags": []
   },
   "source": [
    "<table>\n",
    "    <tr>\n",
    "        <th>Data Science Tools</th>\n",
    "    </tr>\n",
    "    <tr>\n",
    "        <td>Jupyter Notebook</td>\n",
    "    </tr>\n",
    "    <tr>\n",
    "        <td>Anaconda</td>\n",
    "    </tr>\n",
    "    <tr>\n",
    "        <td>R Studio</td>\n",
    "    </tr>\n",
    "</table>\n"
   ]
  },
  {
   "cell_type": "markdown",
   "id": "fcd34015-3167-42e7-b278-11d22f385c75",
   "metadata": {},
   "source": [
    "### Below are a few examples of evaluating arithmetic expressions in Python"
   ]
  },
  {
   "cell_type": "code",
   "execution_count": null,
   "id": "e36aa733-6953-47d0-bc1d-18616d405a33",
   "metadata": {},
   "outputs": [],
   "source": [
    "#This a simple arithmetic expression to mutiply then add integers\n"
   ]
  }
 ],
 "metadata": {
  "kernelspec": {
   "display_name": "Python",
   "language": "python",
   "name": "conda-env-python-py"
  },
  "language_info": {
   "codemirror_mode": {
    "name": "ipython",
    "version": 3
   },
   "file_extension": ".py",
   "mimetype": "text/x-python",
   "name": "python",
   "nbconvert_exporter": "python",
   "pygments_lexer": "ipython3",
   "version": "3.7.12"
  }
 },
 "nbformat": 4,
 "nbformat_minor": 5
}
